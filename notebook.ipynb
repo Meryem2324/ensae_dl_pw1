{
 "cells": [
  {
   "cell_type": "markdown",
   "id": "17ec8d6a-4218-49b9-a549-0977cec82967",
   "metadata": {
    "id": "MVpsYfWg3z0B"
   },
   "source": [
    "# PW1 - Handwritten character recognition\n"
   ]
  },
  {
   "cell_type": "code",
   "execution_count": 1,
   "id": "d682452d-e56e-4de8-a420-4418d63790a7",
   "metadata": {},
   "outputs": [],
   "source": [
    "# Write your name here (e.g. \"Edmond Dantès\") so I can grade your work\n",
    "your_name = \"Meryem EL AISSAOUI\"\n",
    "assert your_name"
   ]
  },
  {
   "cell_type": "code",
   "execution_count": 2,
   "id": "f8538cf7-81e0-481a-8059-be38b611aafb",
   "metadata": {
    "id": "8CcAqNjJ3z0F"
   },
   "outputs": [],
   "source": [
    "%matplotlib inline\n",
    "import math, sys, os, torch, torchvision\n",
    "from torch import nn\n",
    "import numpy as np\n",
    "import matplotlib.pyplot as plt"
   ]
  },
  {
   "cell_type": "code",
   "execution_count": 3,
   "id": "c864b86e-6e6b-4d8a-82c8-6822072a676f",
   "metadata": {
    "id": "3Wxb9pdV3z0F"
   },
   "outputs": [
    {
     "name": "stdout",
     "output_type": "stream",
     "text": [
      "Using gpu: False \n"
     ]
    }
   ],
   "source": [
    "device = torch.device(\"cuda:0\" if torch.cuda.is_available() else \"cpu\")\n",
    "print('Using gpu: %s ' % torch.cuda.is_available())"
   ]
  },
  {
   "cell_type": "markdown",
   "id": "aa038da6-b812-4053-9b72-8ff97ceb3b9b",
   "metadata": {
    "id": "1Sjq8zzf3z0G"
   },
   "source": [
    "We will be training many models. Select a number of epochs to train each model. If you are using a slow machine, or if you want to restart training often and have many development iterations, we suggest `NUM_EPOCH = 2`. If you are using a fast machine, or have a GPU available, of if you are confident that you can write accurate code first try, you will get better accuracies by increasing this constant. You could be able to afford up to `NUM_EPOCH = 10`."
   ]
  },
  {
   "cell_type": "code",
   "execution_count": 4,
   "id": "137adce6-13cc-4ccc-aaf3-42230e322a9b",
   "metadata": {
    "id": "L9CF0H4O3z0G"
   },
   "outputs": [],
   "source": [
    "NUM_EPOCH = 2"
   ]
  },
  {
   "cell_type": "markdown",
   "id": "6ce850e9-ef4e-4323-af2d-be6b94e98994",
   "metadata": {
    "id": "65e20f5e"
   },
   "source": [
    "# Part A - Linear, MLP, and CNN\n"
   ]
  },
  {
   "cell_type": "markdown",
   "id": "05aff4bd-8b1d-4531-89d8-64ce4e2b6357",
   "metadata": {
    "id": "KSAiV2ov3z0H"
   },
   "source": [
    "## Handwritten digit recognition dataset\n",
    "\n",
    "We will use the MNIST database (Modified National Institute of Standards and Technology database). It contains tens of thousands of pictures of handwritten digits. This database was compiled in 1994, as part of the effort in the 1990s to standardize automation of sorting devices with human input, for instance sorting mail with handwritten postal codes at the post office. This is now often considered one of the first real successes of neural networks, and the first easy example on which performance of new such algorithms is tested."
   ]
  },
  {
   "cell_type": "markdown",
   "id": "3429898a-0f57-4cdf-9aa6-7b1121ee4e53",
   "metadata": {},
   "source": [
    "Load the dataset (train and test splits) using `torchvision`"
   ]
  },
  {
   "cell_type": "code",
   "execution_count": 5,
   "id": "59e1c523-4b78-492a-b103-2861af8c3d89",
   "metadata": {
    "id": "Zu3hU4dQ3z0H"
   },
   "outputs": [],
   "source": [
    "root_dir = './data/MNIST/'\n",
    "\n",
    "### YOUR CODE HERE ###\n",
    "\n",
    "from torchvision import datasets, transforms\n",
    "#on doit faire un torchvision.transforms.compos(( totensor+normalisation))\n",
    "transform = transforms.Compose([\n",
    "    transforms.ToTensor(),  \n",
    "    transforms.Normalize((0.1307,), (0.3081,))  # Ici, c est la moyenne et écart-type de MNIST\n",
    "])\n",
    "\n",
    "# Chargement des datasets\n",
    "train_dataset = datasets.MNIST(root=root_dir, train=True, transform=transform, download=True)#il faut ajouter shuffle true? \n",
    "test_dataset = datasets.MNIST(root=root_dir, train=False, transform=transform, download=True)#il faut ajouter shuffle false? "
   ]
  },
  {
   "cell_type": "markdown",
   "id": "d77fbaba-b01f-46d0-a1d7-47c59faaf042",
   "metadata": {},
   "source": [
    "How many examples in each split? \n",
    "\n",
    "Plot the first image and label of the training set using `matplotlib`\n",
    "\n",
    "What is the input dimension?"
   ]
  },
  {
   "cell_type": "code",
   "execution_count": 6,
   "id": "083f07f4-e129-4e9b-b26e-a32fd4bdb99d",
   "metadata": {
    "id": "9fgMls5P3z0I",
    "scrolled": true
   },
   "outputs": [
    {
     "name": "stdout",
     "output_type": "stream",
     "text": [
      "Nombre d'exemples dans l'entraînement : 60000\n",
      "Nombre d'exemples dans le test : 10000\n"
     ]
    }
   ],
   "source": [
    "### YOUR CODE HERE ###\n",
    "print(f\"Nombre d'exemples dans l'entraînement : {len(train_dataset)}\")\n",
    "print(f\"Nombre d'exemples dans le test : {len(test_dataset)}\")"
   ]
  },
  {
   "cell_type": "code",
   "execution_count": 7,
   "id": "dc2fbd26-b017-435a-822e-ad382eabd8a4",
   "metadata": {},
   "outputs": [
    {
     "data": {
      "image/png": "[encoded data removed]",
      "text/plain": [
       "<Figure size 640x480 with 1 Axes>"
      ]
     },
     "metadata": {},
     "output_type": "display_data"
    },
    {
     "name": "stdout",
     "output_type": "stream",
     "text": [
      "Dimensions de l'image : torch.Size([1, 28, 28])\n"
     ]
    }
   ],
   "source": [
    "### YOUR CODE HERE ###\n",
    "image, label = train_dataset[0]\n",
    "\n",
    "plt.imshow(image.squeeze(), cmap='gray')  \n",
    "plt.title(f\"Label : {label}\")\n",
    "plt.axis('off')\n",
    "plt.show()\n",
    "\n",
    "print(f\"Dimensions de l'image : {image.shape}\")\n",
    "\n"
   ]
  },
  {
   "cell_type": "markdown",
   "id": "f6380c03-1427-4dea-974e-5a38621ea6c1",
   "metadata": {
    "id": "Guv5_hY63z0L"
   },
   "source": [
    "# A.1 - Linear features\n",
    "\n",
    "We start with a very simple model, linear with respect to pixel values.\n",
    "Use a `preprocess` function to downsample the image to 7x7 pixels, then flatten it and use a `torch.nn.Linear` model.\n",
    "\n",
    "The torch average-pooling function is `torch.nn.functional.avg_pool2d`, check the documentation to set the arguments properly.\n",
    "DO NOT use your implementation of average-pooling, it would take prohibitively long to train and you would not finish the practical.\n",
    "If the training takes too long, go back to the first section and lower the `NUM_EPOCH` constant."
   ]
  },
  {
   "cell_type": "markdown",
   "id": "f2bb8e5d-7d84-4a59-aa5d-e942ffa22aa8",
   "metadata": {},
   "source": [
    "Again, use matplotlib to visualize an example of downsampling"
   ]
  },
  {
   "cell_type": "code",
   "execution_count": 8,
   "id": "ac111d5c-dfa2-44e2-9a57-f2f4c2caff2d",
   "metadata": {},
   "outputs": [],
   "source": [
    "### YOUR CODE HERE ###\n",
    "import torch.nn.functional as F\n",
    "\n",
    "def preprocess(x):\n",
    "    return torch.nn.functional.avg_pool2d(x,kernel_size=4)"
   ]
  },
  {
   "cell_type": "code",
   "execution_count": 9,
   "id": "6aa4adcb-be17-4f0d-ba9f-4da062227230",
   "metadata": {
    "id": "2v3GqEPU3z0L"
   },
   "outputs": [],
   "source": [
    "### YOUR ( MODEL / PREPROCESSING ) CODE HERE ###\n",
    "class LinearModel(nn.Module):\n",
    "    def __init__(self):\n",
    "        super().__init__()\n",
    "        self.linear = nn.Linear(7*7, 10)\n",
    "\n",
    "    def forward(self, x):\n",
    "        x = preprocess(x)\n",
    "        x = x.view(x.size(0), -1) \n",
    "        return self.linear(x)\n",
    "\n"
   ]
  },
  {
   "cell_type": "code",
   "execution_count": 10,
   "id": "597aed0b",
   "metadata": {},
   "outputs": [
    {
     "data": {
      "image/png": "[encoded data removed]",
      "text/plain": [
       "<Figure size 640x480 with 2 Axes>"
      ]
     },
     "metadata": {},
     "output_type": "display_data"
    }
   ],
   "source": [
    "image, label = train_dataset[0]  \n",
    "\n",
    "# Affichage original\n",
    "plt.subplot(1, 2, 1)\n",
    "plt.imshow(image.squeeze(), cmap='gray')\n",
    "plt.title(\"Original 28x28\")\n",
    "plt.axis('off')\n",
    "\n",
    "# Après downsampling avec preprocess()\n",
    "image_down = preprocess(image)\n",
    "\n",
    "plt.subplot(1, 2, 2)\n",
    "plt.imshow(image_down.view(7, 7).detach(), cmap='gray')\n",
    "plt.title(\"Downsampled 7x7\")\n",
    "plt.axis('off')\n",
    "\n",
    "plt.tight_layout()\n",
    "plt.show()\n"
   ]
  },
  {
   "cell_type": "markdown",
   "id": "e5becae4-e27f-43ed-a1c5-ced8c16f4cac",
   "metadata": {
    "id": "qeWZ7DeNMG20"
   },
   "source": [
    "## A.2 - Loss and optimizer\n",
    "Create a cross entropy loss."
   ]
  },
  {
   "cell_type": "code",
   "execution_count": 11,
   "id": "a85b789e",
   "metadata": {
    "id": "a85b789e"
   },
   "outputs": [],
   "source": [
    "### YOUR CODE HERE ###\n",
    "model = LinearModel()\n",
    "\n",
    "criterion = nn.CrossEntropyLoss()"
   ]
  },
  {
   "cell_type": "markdown",
   "id": "43aec31b-3d2b-4b29-ad85-e88a6e25660a",
   "metadata": {
    "id": "ZCnlsh9iMhx_"
   },
   "source": [
    "## A.3 - Training and testing loops\n",
    "Finally, create the functions `train(model, epoch, preprocess, optimizer)` and `test(model)` to train (one epoch with SGD and a learning rate of $10^{-3}$) and test your model."
   ]
  },
  {
   "cell_type": "code",
   "execution_count": 12,
   "id": "830a9e68",
   "metadata": {},
   "outputs": [],
   "source": [
    "from torch.utils.data import DataLoader\n",
    "\n",
    "train_loader = DataLoader(train_dataset, batch_size=256, shuffle=True)\n",
    "test_loader = DataLoader(test_dataset, batch_size=256)"
   ]
  },
  {
   "cell_type": "code",
   "execution_count": 13,
   "id": "efa6e687",
   "metadata": {},
   "outputs": [],
   "source": [
    "def train(model, epoch, preprocess, optimizer):\n",
    "    model.train()\n",
    "    total, correct = 0, 0\n",
    "\n",
    "    for batch in train_loader:\n",
    "        images, labels = batch\n",
    "        images, labels = images.to(device), labels.to(device)\n",
    "\n",
    "        optimizer.zero_grad()\n",
    "        outputs = model(images)\n",
    "        loss = criterion(outputs, labels)\n",
    "        loss.backward()\n",
    "        optimizer.step()\n",
    "\n",
    "        _, predicted = torch.max(outputs, 1)\n",
    "        total += labels.size(0)\n",
    "        correct += (predicted == labels).sum().item()\n",
    "\n",
    "    train_accuracy = 100 * correct / total\n",
    "    return optimizer, train_accuracy\n",
    "\n",
    "\n",
    "def test(model, preprocess):\n",
    "    model.eval()\n",
    "    total, correct = 0, 0\n",
    "\n",
    "    with torch.no_grad():\n",
    "        for batch in test_loader:\n",
    "            images, labels = batch\n",
    "            images, labels = images.to(device), labels.to(device)\n",
    "            outputs = model(images)\n",
    "            _, predicted = torch.max(outputs.data, 1)\n",
    "            total += labels.size(0)\n",
    "            correct += (predicted == labels).sum().item()\n",
    "\n",
    "    accuracy = 100 * correct / total\n",
    "    return accuracy\n"
   ]
  },
  {
   "cell_type": "markdown",
   "id": "aa359382-2580-44ae-bcdb-3f18cf1f4c61",
   "metadata": {
    "id": "_t4SiXk33z0L"
   },
   "source": [
    "You should get at least 85\\% test accuracy even with only 2 epochs. We will be aiming for around 95\\% test accuracy and above."
   ]
  },
  {
   "cell_type": "code",
   "execution_count": null,
   "id": "6f12bf85-45c6-41d9-87f3-0601bc4b6339",
   "metadata": {
    "id": "nBmfvtl6UbUe",
    "scrolled": true
   },
   "outputs": [
    {
     "name": "stdout",
     "output_type": "stream",
     "text": [
      "Epoch 1/2, Train Acc: 41.98%, Test Acc: 64.52%\n",
      "Epoch 2/2, Train Acc: 69.39%, Test Acc: 74.76%\n"
     ]
    }
   ],
   "source": [
    "model = LinearModel().to(device)\n",
    "optimizer = torch.optim.SGD(model.parameters(), lr=0.001, momentum=0.9) #j'ai choisi de mettre un momentum de 0.9 pour une convergence rapide\n",
    "\n",
    "for epoch in range(NUM_EPOCH):\n",
    "    optimizer, train_acc = train(model, epoch, preprocess, optimizer)\n",
    "    test_acc = test(model, preprocess)\n",
    "    print(f\"Epoch {epoch+1}/{NUM_EPOCH}, Train Acc: {train_acc:.2f}%, Test Acc: {test_acc:.2f}%\")\n"
   ]
  },
  {
   "cell_type": "code",
   "execution_count": 15,
   "id": "814c4b04",
   "metadata": {},
   "outputs": [
    {
     "name": "stdout",
     "output_type": "stream",
     "text": [
      "Epoch 1/2, Train Acc: 83.04%, Test Acc: 87.54%\n",
      "Epoch 2/2, Train Acc: 87.11%, Test Acc: 88.41%\n"
     ]
    }
   ],
   "source": [
    "model = LinearModel().to(device)\n",
    "optimizer = torch.optim.SGD(model.parameters(), lr=0.1, momentum=0.9) #j'ai choisi de mettre un momentum de 0.9 pour une convergence rapide\n",
    "\n",
    "for epoch in range(NUM_EPOCH):\n",
    "    optimizer, train_acc = train(model, epoch, preprocess, optimizer)\n",
    "    test_acc = test(model, preprocess)\n",
    "    print(f\"Epoch {epoch+1}/{NUM_EPOCH}, Train Acc: {train_acc:.2f}%, Test Acc: {test_acc:.2f}%\")"
   ]
  },
  {
   "cell_type": "code",
   "execution_count": 16,
   "id": "5be3e34d",
   "metadata": {},
   "outputs": [
    {
     "name": "stdout",
     "output_type": "stream",
     "text": [
      "Epoch 1/10, Train Acc: 44.58%, Test Acc: 68.25%\n",
      "Epoch 2/10, Train Acc: 70.84%, Test Acc: 74.84%\n",
      "Epoch 3/10, Train Acc: 75.60%, Test Acc: 78.10%\n",
      "Epoch 4/10, Train Acc: 78.23%, Test Acc: 79.85%\n",
      "Epoch 5/10, Train Acc: 79.83%, Test Acc: 81.02%\n",
      "Epoch 6/10, Train Acc: 80.78%, Test Acc: 82.09%\n",
      "Epoch 7/10, Train Acc: 81.71%, Test Acc: 82.68%\n",
      "Epoch 8/10, Train Acc: 82.22%, Test Acc: 83.21%\n",
      "Epoch 9/10, Train Acc: 82.69%, Test Acc: 83.67%\n",
      "Epoch 10/10, Train Acc: 83.08%, Test Acc: 83.93%\n"
     ]
    }
   ],
   "source": [
    "model = LinearModel().to(device)\n",
    "optimizer = torch.optim.SGD(model.parameters(), lr=0.001, momentum=0.9) #j'ai choisi de mettre un momentum de 0.9 pour une convergence rapide\n",
    "NUM_EPOCH=10\n",
    "for epoch in range(NUM_EPOCH):\n",
    "    optimizer, train_acc = train(model, epoch, preprocess, optimizer)\n",
    "    test_acc = test(model, preprocess)\n",
    "    print(f\"Epoch {epoch+1}/{NUM_EPOCH}, Train Acc: {train_acc:.2f}%, Test Acc: {test_acc:.2f}%\")"
   ]
  },
  {
   "cell_type": "code",
   "execution_count": 17,
   "id": "e09990f5",
   "metadata": {},
   "outputs": [
    {
     "name": "stdout",
     "output_type": "stream",
     "text": [
      "Epoch 1/10, Train Acc: 83.31%, Test Acc: 88.05%\n",
      "Epoch 2/10, Train Acc: 87.08%, Test Acc: 88.63%\n",
      "Epoch 3/10, Train Acc: 87.51%, Test Acc: 88.90%\n",
      "Epoch 4/10, Train Acc: 87.89%, Test Acc: 88.80%\n",
      "Epoch 5/10, Train Acc: 87.99%, Test Acc: 89.22%\n",
      "Epoch 6/10, Train Acc: 88.04%, Test Acc: 89.09%\n",
      "Epoch 7/10, Train Acc: 88.16%, Test Acc: 89.26%\n",
      "Epoch 8/10, Train Acc: 88.22%, Test Acc: 89.36%\n",
      "Epoch 9/10, Train Acc: 88.33%, Test Acc: 89.37%\n",
      "Epoch 10/10, Train Acc: 88.36%, Test Acc: 89.32%\n"
     ]
    }
   ],
   "source": [
    "model = LinearModel().to(device)\n",
    "optimizer = torch.optim.SGD(model.parameters(), lr=0.1, momentum=0.9) #j'ai choisi de mettre un momentum de 0.9 pour une convergence rapide\n",
    "NUM_EPOCH=10\n",
    "for epoch in range(NUM_EPOCH):\n",
    "    optimizer, train_acc = train(model, epoch, preprocess, optimizer)\n",
    "    test_acc = test(model, preprocess)\n",
    "    print(f\"Epoch {epoch+1}/{NUM_EPOCH}, Train Acc: {train_acc:.2f}%, Test Acc: {test_acc:.2f}%\")"
   ]
  },
  {
   "cell_type": "code",
   "execution_count": 18,
   "id": "7b6ce1bd",
   "metadata": {},
   "outputs": [
    {
     "name": "stdout",
     "output_type": "stream",
     "text": [
      "Epoch 1/10, Train Acc: 74.95%, Test Acc: 83.87%\n",
      "Epoch 2/10, Train Acc: 84.17%, Test Acc: 85.51%\n",
      "Epoch 3/10, Train Acc: 85.15%, Test Acc: 86.43%\n",
      "Epoch 4/10, Train Acc: 85.68%, Test Acc: 87.02%\n",
      "Epoch 5/10, Train Acc: 86.06%, Test Acc: 87.26%\n",
      "Epoch 6/10, Train Acc: 86.31%, Test Acc: 87.25%\n",
      "Epoch 7/10, Train Acc: 86.49%, Test Acc: 87.65%\n",
      "Epoch 8/10, Train Acc: 86.68%, Test Acc: 87.67%\n",
      "Epoch 9/10, Train Acc: 86.79%, Test Acc: 87.84%\n",
      "Epoch 10/10, Train Acc: 86.90%, Test Acc: 87.78%\n"
     ]
    }
   ],
   "source": [
    "model = LinearModel().to(device)\n",
    "optimizer = torch.optim.SGD(model.parameters(), lr=0.1) \n",
    "NUM_EPOCH=10\n",
    "for epoch in range(NUM_EPOCH):\n",
    "    optimizer, train_acc = train(model, epoch, preprocess, optimizer)\n",
    "    test_acc = test(model, preprocess)\n",
    "    print(f\"Epoch {epoch+1}/{NUM_EPOCH}, Train Acc: {train_acc:.2f}%, Test Acc: {test_acc:.2f}%\")"
   ]
  },
  {
   "cell_type": "markdown",
   "id": "bf28bb4e-7178-4340-9247-f69591e86dcf",
   "metadata": {
    "id": "RrwYAMMBEUPN"
   },
   "source": [
    "## A.4 - Multi-layer perceptron (MLP)\n",
    "\n",
    "Create a class MLP that creates an MLP of given width and depth, and use it to create a 3-layer MLP of width $100$. We will assume that `width > 0` and `depth > 0`."
   ]
  },
  {
   "cell_type": "code",
   "execution_count": 19,
   "id": "79cb6479-d475-4f0e-b0f7-fdd107d9e835",
   "metadata": {
    "colab": {
     "base_uri": "https://localhost:8080/"
    },
    "id": "e8353cd9",
    "outputId": "c7f5eeaf-0638-45c3-842e-4372d21ff712"
   },
   "outputs": [],
   "source": [
    "### YOUR CODE HERE ###\n",
    "\n",
    "class MLP(nn.Module):\n",
    "    def __init__(self, input_dim=784, width=100, depth=3, num_classes=10):\n",
    "        super(MLP, self).__init__()\n",
    "\n",
    "        layers = []\n",
    "        layers.append(nn.Linear(input_dim, width))  # première couche\n",
    "\n",
    "        for _ in range(depth - 1):  # couches cachées intermédiaires\n",
    "            layers.append(nn.ReLU())\n",
    "            layers.append(nn.Linear(width, width))\n",
    "\n",
    "        layers.append(nn.ReLU())\n",
    "        layers.append(nn.Linear(width, num_classes))  # sortie\n",
    "\n",
    "        self.net = nn.Sequential(*layers)\n",
    "\n",
    "    def forward(self, x):\n",
    "        x = x.view(x.size(0), -1)  # aplatir\n",
    "        return self.net(x)\n"
   ]
  },
  {
   "cell_type": "code",
   "execution_count": 20,
   "id": "95e94eb8",
   "metadata": {},
   "outputs": [
    {
     "name": "stdout",
     "output_type": "stream",
     "text": [
      "Epoch 1/2, Train Acc: 77.52%, Test Acc: 91.13%\n",
      "Epoch 2/2, Train Acc: 93.06%, Test Acc: 94.37%\n"
     ]
    }
   ],
   "source": [
    "model = MLP(input_dim=28*28, width=100, depth=3, num_classes=10).to(device)\n",
    "optimizer = torch.optim.SGD(model.parameters(), lr=0.1)\n",
    "\n",
    "NUM_EPOCH = 2\n",
    "\n",
    "for epoch in range(NUM_EPOCH):\n",
    "    optimizer, train_acc = train(model, epoch, lambda x: x, optimizer)\n",
    "    test_acc = test(model, lambda x: x)\n",
    "    print(f\"Epoch {epoch+1}/{NUM_EPOCH}, Train Acc: {train_acc:.2f}%, Test Acc: {test_acc:.2f}%\")\n"
   ]
  },
  {
   "cell_type": "code",
   "execution_count": 21,
   "id": "c826c2fb",
   "metadata": {},
   "outputs": [
    {
     "name": "stdout",
     "output_type": "stream",
     "text": [
      "Epoch 1/10, Train Acc: 77.89%, Test Acc: 89.27%\n",
      "Epoch 2/10, Train Acc: 93.31%, Test Acc: 93.66%\n",
      "Epoch 3/10, Train Acc: 95.22%, Test Acc: 94.93%\n",
      "Epoch 4/10, Train Acc: 96.13%, Test Acc: 96.12%\n",
      "Epoch 5/10, Train Acc: 96.86%, Test Acc: 96.14%\n",
      "Epoch 6/10, Train Acc: 97.38%, Test Acc: 96.99%\n",
      "Epoch 7/10, Train Acc: 97.82%, Test Acc: 96.78%\n",
      "Epoch 8/10, Train Acc: 98.08%, Test Acc: 94.39%\n",
      "Epoch 9/10, Train Acc: 98.17%, Test Acc: 97.00%\n",
      "Epoch 10/10, Train Acc: 98.49%, Test Acc: 97.56%\n"
     ]
    }
   ],
   "source": [
    "model = MLP(input_dim=28*28, width=100, depth=3, num_classes=10).to(device)\n",
    "optimizer = torch.optim.SGD(model.parameters(), lr=0.1)\n",
    "\n",
    "NUM_EPOCH = 10\n",
    "\n",
    "for epoch in range(NUM_EPOCH):\n",
    "    optimizer, train_acc = train(model, epoch, lambda x: x, optimizer)\n",
    "    test_acc = test(model, lambda x: x)\n",
    "    print(f\"Epoch {epoch+1}/{NUM_EPOCH}, Train Acc: {train_acc:.2f}%, Test Acc: {test_acc:.2f}%\")"
   ]
  },
  {
   "cell_type": "markdown",
   "id": "76ca5a11-93e4-47ab-81f1-e4ee3cae45c9",
   "metadata": {
    "id": "v1czyC9R3z0R"
   },
   "source": [
    "# A.5 - Deep convolutional model\n",
    "\n",
    "Write a convolutional model, with learned features.\n",
    "Use two layers, one convolutional with 8 filters of size 3x3, then take a relu and max-pool with kernel size 2, and finally flatten and add a Linear layer. You can use the identity as pre-processing function."
   ]
  },
  {
   "cell_type": "markdown",
   "id": "4933e318-5521-4bf8-b011-bdb95ed0d8b0",
   "metadata": {},
   "source": [
    "\n",
    "Here is a little animation to remind you of the sliding window principle of convolutions.\n",
    "\n",
    "![conv](https://github.com//vdumoulin/conv_arithmetic/raw/master/gif/no_padding_no_strides.gif)"
   ]
  },
  {
   "cell_type": "code",
   "execution_count": 22,
   "id": "f91b76e3",
   "metadata": {},
   "outputs": [],
   "source": [
    "### YOUR CODE HERE ###:\n",
    "class ConvModel(nn.Module):\n",
    "    def __init__(self):\n",
    "        super(ConvModel, self).__init__()\n",
    "        self.conv = nn.Conv2d(in_channels=1, out_channels=8, kernel_size=3) # la sortie après convolution est 26x26 car [((28-3)/1)+1=26]\n",
    "        self.pool = nn.MaxPool2d(kernel_size=2, stride=2) #Maxpooling 2x2 reduit la taille par 2 donc 26/2 = 13\n",
    "        self.fc = nn.Linear(8 * 13 * 13, 10) \n",
    "\n",
    "    def forward(self, x):\n",
    "        x = F.relu(self.conv(x))  \n",
    "        x = self.pool(x)          \n",
    "        x = x.view(x.size(0), -1) \n",
    "        x = self.fc(x)           \n",
    "        return x\n"
   ]
  },
  {
   "cell_type": "code",
   "execution_count": 23,
   "id": "b94f6dce",
   "metadata": {},
   "outputs": [],
   "source": [
    "preprocess = lambda x: x"
   ]
  },
  {
   "cell_type": "code",
   "execution_count": 24,
   "id": "69d029ca",
   "metadata": {},
   "outputs": [
    {
     "name": "stdout",
     "output_type": "stream",
     "text": [
      "Epoch 1/2, Train Acc: 88.84%, Test Acc: 94.47%\n",
      "Epoch 2/2, Train Acc: 95.83%, Test Acc: 96.56%\n"
     ]
    }
   ],
   "source": [
    "model = ConvModel().to(device)\n",
    "optimizer = torch.optim.SGD(model.parameters(), lr=0.1)\n",
    "NUM_EPOCH = 2\n",
    "for epoch in range(NUM_EPOCH):\n",
    "    optimizer, train_acc = train(model, epoch, preprocess, optimizer)\n",
    "    test_acc = test(model, preprocess)\n",
    "    print(f\"Epoch {epoch+1}/{NUM_EPOCH}, Train Acc: {train_acc:.2f}%, Test Acc: {test_acc:.2f}%\")"
   ]
  },
  {
   "cell_type": "code",
   "execution_count": 25,
   "id": "2b8c8816",
   "metadata": {},
   "outputs": [
    {
     "name": "stdout",
     "output_type": "stream",
     "text": [
      "Epoch 1/5, Train Acc: 89.12%, Test Acc: 95.53%\n",
      "Epoch 2/5, Train Acc: 95.78%, Test Acc: 96.77%\n",
      "Epoch 3/5, Train Acc: 96.75%, Test Acc: 97.11%\n",
      "Epoch 4/5, Train Acc: 97.32%, Test Acc: 97.42%\n",
      "Epoch 5/5, Train Acc: 97.61%, Test Acc: 97.22%\n"
     ]
    }
   ],
   "source": [
    "model = ConvModel().to(device)\n",
    "optimizer = torch.optim.SGD(model.parameters(), lr=0.1)\n",
    "NUM_EPOCH = 5\n",
    "for epoch in range(NUM_EPOCH):\n",
    "    optimizer, train_acc = train(model, epoch, preprocess, optimizer)\n",
    "    test_acc = test(model, preprocess)\n",
    "    print(f\"Epoch {epoch+1}/{NUM_EPOCH}, Train Acc: {train_acc:.2f}%, Test Acc: {test_acc:.2f}%\")\n"
   ]
  },
  {
   "cell_type": "code",
   "execution_count": 26,
   "id": "fe0dd2ab",
   "metadata": {},
   "outputs": [
    {
     "name": "stdout",
     "output_type": "stream",
     "text": [
      "Epoch 1/10, Train Acc: 88.04%, Test Acc: 94.50%\n",
      "Epoch 2/10, Train Acc: 95.64%, Test Acc: 96.60%\n",
      "Epoch 3/10, Train Acc: 96.86%, Test Acc: 97.25%\n",
      "Epoch 4/10, Train Acc: 97.38%, Test Acc: 97.09%\n",
      "Epoch 5/10, Train Acc: 97.67%, Test Acc: 97.41%\n",
      "Epoch 6/10, Train Acc: 97.87%, Test Acc: 97.54%\n",
      "Epoch 7/10, Train Acc: 98.06%, Test Acc: 97.82%\n",
      "Epoch 8/10, Train Acc: 98.19%, Test Acc: 97.47%\n",
      "Epoch 9/10, Train Acc: 98.27%, Test Acc: 97.76%\n",
      "Epoch 10/10, Train Acc: 98.36%, Test Acc: 97.64%\n"
     ]
    }
   ],
   "source": [
    "model = ConvModel().to(device)\n",
    "optimizer = torch.optim.SGD(model.parameters(), lr=0.1)\n",
    "NUM_EPOCH = 10\n",
    "for epoch in range(NUM_EPOCH):\n",
    "    optimizer, train_acc = train(model, epoch, preprocess, optimizer)\n",
    "    test_acc = test(model, preprocess)\n",
    "    print(f\"Epoch {epoch+1}/{NUM_EPOCH}, Train Acc: {train_acc:.2f}%, Test Acc: {test_acc:.2f}%\")"
   ]
  },
  {
   "cell_type": "code",
   "execution_count": null,
   "id": "09b6e131",
   "metadata": {},
   "outputs": [],
   "source": [
    "# Quand le nombre d'epochs augmente, l'accuracy du train s'améliore donc notre modèle apprend bien les données d'entrainement\n",
    "# on constate aussi que pour l'accuracy du test courant les épochs varie dans les deux sens d'une epoch à l'autre mais avec des amélioration entre la premiere et la derniere epoch"
   ]
  },
  {
   "cell_type": "markdown",
   "id": "a0313eed-03ad-461d-9ddb-bb690c631149",
   "metadata": {
    "id": "pbQ1LUqf3z0R"
   },
   "source": [
    "You should be able to get around 97\\% to 98\\% accuracy with this model. Try increasing the NUM_EPOCH constant and watch what happens to test accuracy and train accuracy as training progresses further.\n",
    "\n",
    "Write a deeper convolutional model, with one convolutional layer as previously, but three linear layers with relu activations after that.\n",
    "Use `h = 100` hidden neurons. How does the test accuracy compare with the previous two-layer network ?"
   ]
  },
  {
   "cell_type": "code",
   "execution_count": 30,
   "id": "69af82cd",
   "metadata": {},
   "outputs": [],
   "source": [
    "class ConvDeepModel(nn.Module):\n",
    "    def __init__(self, h=100):\n",
    "        super(ConvDeepModel, self).__init__()\n",
    "\n",
    "        # Convolution + MaxPool\n",
    "        self.conv = nn.Conv2d(in_channels=1, out_channels=8, kernel_size=3)\n",
    "        self.pool = nn.MaxPool2d(kernel_size=2)\n",
    "     \n",
    "        dummy_input = torch.zeros(1, 1, 28, 28)  # image MNIST 28x28\n",
    "        x = self.pool(F.relu(self.conv(dummy_input)))\n",
    "        self.flattened_size = x.view(1, -1).size(1)\n",
    "        \n",
    "        # Couches linéaires\n",
    "        self.fc1 = nn.Linear(self.flattened_size, h)\n",
    "        self.fc2 = nn.Linear(h, h)\n",
    "        self.fc3 = nn.Linear(h, 10)  # 10 classes pour MNIST\n",
    "\n",
    "\n",
    "    def forward(self, x):\n",
    "        x = F.relu(self.conv(x))\n",
    "        x = self.pool(x)\n",
    "        x = x.view(x.size(0), -1)  \n",
    "        x = F.relu(self.fc1(x))\n",
    "        x = F.relu(self.fc2(x))\n",
    "        x = self.fc3(x) \n",
    "        return x\n"
   ]
  },
  {
   "cell_type": "code",
   "execution_count": 31,
   "id": "5ccd174d",
   "metadata": {},
   "outputs": [],
   "source": [
    "preprocess = lambda x: x"
   ]
  },
  {
   "cell_type": "code",
   "execution_count": 32,
   "id": "8a2993ae",
   "metadata": {},
   "outputs": [
    {
     "name": "stdout",
     "output_type": "stream",
     "text": [
      "Epoch 1/2, Train Acc: 81.39%, Test Acc: 92.79%\n",
      "Epoch 2/2, Train Acc: 94.02%, Test Acc: 94.68%\n"
     ]
    }
   ],
   "source": [
    "model = ConvDeepModel(h=100).to(device)\n",
    "optimizer = torch.optim.SGD(model.parameters(), lr=0.1)\n",
    "\n",
    "NUM_EPOCH = 2\n",
    "for epoch in range(NUM_EPOCH):\n",
    "    optimizer, train_acc = train(model, epoch, preprocess, optimizer)\n",
    "    test_acc = test(model, preprocess)\n",
    "    print(f\"Epoch {epoch+1}/{NUM_EPOCH}, Train Acc: {train_acc:.2f}%, Test Acc: {test_acc:.2f}%\")\n"
   ]
  },
  {
   "cell_type": "code",
   "execution_count": 33,
   "id": "31ebf89b",
   "metadata": {},
   "outputs": [
    {
     "name": "stdout",
     "output_type": "stream",
     "text": [
      "Epoch 1/5, Train Acc: 95.83%, Test Acc: 96.32%\n",
      "Epoch 2/5, Train Acc: 96.71%, Test Acc: 96.98%\n",
      "Epoch 3/5, Train Acc: 97.32%, Test Acc: 97.40%\n",
      "Epoch 4/5, Train Acc: 97.75%, Test Acc: 93.75%\n",
      "Epoch 5/5, Train Acc: 98.03%, Test Acc: 97.47%\n"
     ]
    }
   ],
   "source": [
    "NUM_EPOCH = 5\n",
    "for epoch in range(NUM_EPOCH):\n",
    "    optimizer, train_acc = train(model, epoch, preprocess, optimizer)\n",
    "    test_acc = test(model, preprocess)\n",
    "    print(f\"Epoch {epoch+1}/{NUM_EPOCH}, Train Acc: {train_acc:.2f}%, Test Acc: {test_acc:.2f}%\")"
   ]
  },
  {
   "cell_type": "code",
   "execution_count": 34,
   "id": "f56349a3",
   "metadata": {},
   "outputs": [
    {
     "name": "stdout",
     "output_type": "stream",
     "text": [
      "Epoch 1/10, Train Acc: 80.12%, Test Acc: 90.05%\n",
      "Epoch 2/10, Train Acc: 94.93%, Test Acc: 95.92%\n",
      "Epoch 3/10, Train Acc: 96.80%, Test Acc: 96.84%\n",
      "Epoch 4/10, Train Acc: 97.48%, Test Acc: 95.90%\n",
      "Epoch 5/10, Train Acc: 98.00%, Test Acc: 97.67%\n",
      "Epoch 6/10, Train Acc: 98.36%, Test Acc: 93.84%\n",
      "Epoch 7/10, Train Acc: 98.55%, Test Acc: 95.23%\n",
      "Epoch 8/10, Train Acc: 97.94%, Test Acc: 98.31%\n",
      "Epoch 9/10, Train Acc: 98.88%, Test Acc: 98.30%\n",
      "Epoch 10/10, Train Acc: 99.06%, Test Acc: 96.89%\n"
     ]
    }
   ],
   "source": [
    "model = ConvDeepModel(h=100).to(device)\n",
    "optimizer = torch.optim.SGD(model.parameters(), lr=0.1)\n",
    "\n",
    "NUM_EPOCH = 10\n",
    "for epoch in range(NUM_EPOCH):\n",
    "    optimizer, train_acc = train(model, epoch, preprocess, optimizer)\n",
    "    test_acc = test(model, preprocess)\n",
    "    print(f\"Epoch {epoch+1}/{NUM_EPOCH}, Train Acc: {train_acc:.2f}%, Test Acc: {test_acc:.2f}%\")"
   ]
  },
  {
   "cell_type": "code",
   "execution_count": null,
   "id": "3896bd1b",
   "metadata": {},
   "outputs": [],
   "source": [
    "#on constate que l'accuracy s'améliore par rapport au model de deux couches"
   ]
  },
  {
   "cell_type": "markdown",
   "id": "46fd763b-b36a-461c-ad34-f472e62ce46d",
   "metadata": {},
   "source": [
    "## A.6 Visualisations of convolutions\n",
    "\n",
    "After training your model, let's see what features it has learned!\n",
    "\n",
    "Plot an image from the test set then plot all 8 feature maps extracted by the convolutional layer"
   ]
  },
  {
   "cell_type": "code",
   "execution_count": 35,
   "id": "8c4aa8b3",
   "metadata": {},
   "outputs": [
    {
     "data": {
      "image/png": "[encoded data removed]",
      "text/plain": [
       "<Figure size 1500x500 with 8 Axes>"
      ]
     },
     "metadata": {},
     "output_type": "display_data"
    }
   ],
   "source": [
    "images, labels = next(iter(test_loader))\n",
    "img = images[0].unsqueeze(0).to(device)  \n",
    "\n",
    "\n",
    "with torch.no_grad():\n",
    "    conv_output = model.conv(img)  \n",
    "\n",
    "fig, axes = plt.subplots(1, 8, figsize=(15, 5))\n",
    "for i in range(8):\n",
    "    axes[i].imshow(conv_output[0, i].cpu(), cmap='gray')\n",
    "    axes[i].axis('off')\n",
    "    axes[i].set_title(f\"Map {i+1}\")\n",
    "plt.suptitle(\"Feature maps de la 1ère couche conv\")\n",
    "plt.show()\n"
   ]
  },
  {
   "cell_type": "markdown",
   "id": "dc457ad1-3240-4ffb-a8f3-98c6554dfce5",
   "metadata": {
    "id": "riu_K1at3z0R"
   },
   "source": [
    "# Part B - Residual models\n",
    "\n",
    "## B.1 - Residual blocks\n",
    "\n",
    "Write a residual block with two linear layers to learn a function $\\mathbb{R}^d \\to \\mathbb{R}^d$ with $h < d$ hidden neurons.\n",
    "Write a convolutional residual block with the same idea. What hyperparameter acts as the number of hidden neurons in convolutional blocks ?"
   ]
  },
  {
   "cell_type": "code",
   "execution_count": 36,
   "id": "e2e9782e",
   "metadata": {},
   "outputs": [],
   "source": [
    "\n",
    "class ResidualBlock(nn.Module):\n",
    "    def __init__(self, d, h):\n",
    "        super(ResidualBlock, self).__init__()\n",
    "        self.fc1 = nn.Linear(d, h)  # couche de réduction\n",
    "        self.fc2 = nn.Linear(h, d)  # couche de remontée\n",
    "        \n",
    "\n",
    "    def forward(self, x):\n",
    "        out = F.relu(self.fc1(x))  \n",
    "        out = self.fc2(out)        \n",
    "        return x + out     # connexion résiduelle       \n",
    "# l'hyperparametre qui joue le role du nombre de couches cachés est  nombre de filtres "
   ]
  },
  {
   "cell_type": "markdown",
   "id": "8cc0097d-269c-40f4-b182-bdc79bd5c512",
   "metadata": {
    "id": "huKWOvVc3z0S"
   },
   "source": [
    "## B.2 - Stacking residual blocks\n",
    "\n",
    "Use a single convolution layer, followed by a relu and max-pool, then an arbitrary number of residual blocks as defined above, and finish with a linear layer. Can you match the accuracy of the two-layer network ? Can you exceed it ? What happens when you increase the number of layers ? Look at the details of the ResNet architecture on the lecture's slides to get an idea of how to increase the number of hidden neurons and the number of layers. One of the strengths of ResNets was there relatively low number of parameters compared\n",
    "to a multi-layer architecture like that of the previous section, does this show in your experiments ?"
   ]
  },
  {
   "cell_type": "code",
   "execution_count": 37,
   "id": "8ea80bc4",
   "metadata": {},
   "outputs": [],
   "source": [
    "class ResidualModel(torch.nn.Module):\n",
    "    def __init__(self, l, h, k=3, out=8):\n",
    "        super(ResidualModel, self).__init__()\n",
    "        \n",
    "        self.conv = nn.Conv2d(in_channels=1, out_channels=out, kernel_size=k)\n",
    "        self.pool = nn.MaxPool2d(kernel_size=2)\n",
    "        \n",
    "        # Calcul automatique de la taille d'entrée\n",
    "        dummy_input = torch.zeros(1, 1, 28, 28)\n",
    "        x = self.pool(F.relu(self.conv(dummy_input)))\n",
    "        self.flat_dim = x.view(1, -1).size(1)\n",
    "        \n",
    "        # iste de blocs résiduels linéaires\n",
    "        self.blocks = nn.ModuleList([\n",
    "            ResidualBlock(self.flat_dim, h) for _ in range(l)\n",
    "        ])\n",
    "        \n",
    "        # Couche finale pour classification \n",
    "        self.fc = nn.Linear(self.flat_dim, 10)\n",
    "\n",
    "    def forward(self, x):\n",
    "        x = self.pool(F.relu(self.conv(x)))\n",
    "        x = x.view(x.size(0), -1)\n",
    "        for block in self.blocks:\n",
    "            x = block(x)\n",
    "        x = self.fc(x)\n",
    "        return x\n"
   ]
  },
  {
   "cell_type": "code",
   "execution_count": 38,
   "id": "e7a84408",
   "metadata": {},
   "outputs": [],
   "source": [
    "# Expérience 1 : peu de blocs, peu de neurones\n",
    "model1 = ResidualModel(l=2, h=64)\n",
    "\n",
    "# Expérience 2 : plus de blocs\n",
    "model2 = ResidualModel(l=5, h=64)\n",
    "\n",
    "# Expérience 3 : plus de neurones cachés\n",
    "model3 = ResidualModel(l=2, h=128)\n",
    "\n",
    "# Expérience 4 : architecture classique sans résidus (pour comparaison)\n",
    "model_baseline = ConvDeepModel(h=128)\n"
   ]
  },
  {
   "cell_type": "code",
   "execution_count": 39,
   "id": "93b87bb9",
   "metadata": {},
   "outputs": [],
   "source": [
    "def run_experiment(model_class, model_args, name, num_epochs=10, lr=0.1):\n",
    "    print(f\"\\n=== {name} ===\")\n",
    "    model = model_class(**model_args).to(device)\n",
    "    optimizer = torch.optim.SGD(model.parameters(), lr=lr)\n",
    "\n",
    "    train_accs, test_accs = [], []\n",
    "    for epoch in range(num_epochs):\n",
    "        optimizer, train_acc = train(model, epoch, preprocess, optimizer)\n",
    "        test_acc = test(model, preprocess)\n",
    "        train_accs.append(train_acc)\n",
    "        test_accs.append(test_acc)\n",
    "        print(f\"Epoch {epoch+1}/{num_epochs}, Train Acc: {train_acc:.2f}%, Test Acc: {test_acc:.2f}%\")\n",
    "\n",
    "    return {\n",
    "        \"name\": name,\n",
    "        \"train_accs\": train_accs,\n",
    "        \"test_accs\": test_accs,\n",
    "        \"final_train\": train_accs[-1],\n",
    "        \"final_test\": test_accs[-1],\n",
    "        \"params\": sum(p.numel() for p in model.parameters() if p.requires_grad)\n",
    "    }\n"
   ]
  },
  {
   "cell_type": "code",
   "execution_count": 40,
   "id": "1a2cc8b6",
   "metadata": {},
   "outputs": [
    {
     "name": "stdout",
     "output_type": "stream",
     "text": [
      "\n",
      "=== ConvDeepModel (h=100) ===\n",
      "Epoch 1/10, Train Acc: 80.67%, Test Acc: 93.04%\n",
      "Epoch 2/10, Train Acc: 94.64%, Test Acc: 96.01%\n",
      "Epoch 3/10, Train Acc: 96.42%, Test Acc: 95.71%\n",
      "Epoch 4/10, Train Acc: 96.90%, Test Acc: 96.70%\n",
      "Epoch 5/10, Train Acc: 97.75%, Test Acc: 96.56%\n",
      "Epoch 6/10, Train Acc: 98.12%, Test Acc: 97.79%\n",
      "Epoch 7/10, Train Acc: 98.38%, Test Acc: 98.13%\n",
      "Epoch 8/10, Train Acc: 98.64%, Test Acc: 97.89%\n",
      "Epoch 9/10, Train Acc: 98.83%, Test Acc: 98.16%\n",
      "Epoch 10/10, Train Acc: 98.96%, Test Acc: 98.06%\n",
      "\n",
      "=== ResidualModel (l=2, h=64) ===\n",
      "Epoch 1/10, Train Acc: 89.35%, Test Acc: 95.15%\n",
      "Epoch 2/10, Train Acc: 96.79%, Test Acc: 97.43%\n",
      "Epoch 3/10, Train Acc: 97.94%, Test Acc: 97.37%\n",
      "Epoch 4/10, Train Acc: 98.39%, Test Acc: 97.68%\n",
      "Epoch 5/10, Train Acc: 98.69%, Test Acc: 97.72%\n",
      "Epoch 6/10, Train Acc: 99.00%, Test Acc: 98.46%\n",
      "Epoch 7/10, Train Acc: 99.19%, Test Acc: 98.45%\n",
      "Epoch 8/10, Train Acc: 99.35%, Test Acc: 98.52%\n",
      "Epoch 9/10, Train Acc: 99.52%, Test Acc: 97.94%\n",
      "Epoch 10/10, Train Acc: 99.56%, Test Acc: 98.02%\n",
      "\n",
      "=== ResidualModel (l=5, h=64) ===\n",
      "Epoch 1/10, Train Acc: 89.98%, Test Acc: 92.83%\n",
      "Epoch 2/10, Train Acc: 97.42%, Test Acc: 97.90%\n",
      "Epoch 3/10, Train Acc: 98.33%, Test Acc: 96.75%\n",
      "Epoch 4/10, Train Acc: 98.76%, Test Acc: 92.73%\n",
      "Epoch 5/10, Train Acc: 98.78%, Test Acc: 98.58%\n",
      "Epoch 6/10, Train Acc: 99.28%, Test Acc: 97.42%\n",
      "Epoch 7/10, Train Acc: 99.46%, Test Acc: 98.39%\n",
      "Epoch 8/10, Train Acc: 99.62%, Test Acc: 98.07%\n",
      "Epoch 9/10, Train Acc: 99.76%, Test Acc: 97.76%\n",
      "Epoch 10/10, Train Acc: 99.87%, Test Acc: 98.73%\n",
      "\n",
      "=== ResidualModel (l=2, h=128) ===\n",
      "Epoch 1/10, Train Acc: 89.22%, Test Acc: 95.87%\n",
      "Epoch 2/10, Train Acc: 96.40%, Test Acc: 97.12%\n",
      "Epoch 3/10, Train Acc: 97.81%, Test Acc: 96.50%\n",
      "Epoch 4/10, Train Acc: 98.38%, Test Acc: 97.89%\n",
      "Epoch 5/10, Train Acc: 98.79%, Test Acc: 98.47%\n",
      "Epoch 6/10, Train Acc: 99.03%, Test Acc: 98.46%\n",
      "Epoch 7/10, Train Acc: 99.26%, Test Acc: 97.95%\n",
      "Epoch 8/10, Train Acc: 99.41%, Test Acc: 98.61%\n",
      "Epoch 9/10, Train Acc: 99.55%, Test Acc: 98.60%\n",
      "Epoch 10/10, Train Acc: 99.66%, Test Acc: 98.32%\n"
     ]
    }
   ],
   "source": [
    "results = []\n",
    "\n",
    "results.append(run_experiment(ConvDeepModel, {\"h\": 100}, \"ConvDeepModel (h=100)\"))  #pour comparer, architecture classique sans résidus\n",
    "\n",
    "results.append(run_experiment(ResidualModel, {\"l\": 2, \"h\": 64}, \"ResidualModel (l=2, h=64)\"))    #peu de blocs, peu de neurones\n",
    "\n",
    "results.append(run_experiment(ResidualModel, {\"l\": 5, \"h\": 64}, \"ResidualModel (l=5, h=64)\"))    #plus de blocs\n",
    "\n",
    "results.append(run_experiment(ResidualModel, {\"l\": 2, \"h\": 128}, \"ResidualModel (l=2, h=128)\"))  #plus de neurons cachés\n"
   ]
  },
  {
   "cell_type": "code",
   "execution_count": null,
   "id": "8ef18e5a",
   "metadata": {},
   "outputs": [],
   "source": [
    "# on constate quand on reste sur le meme nombre de neurons et on ajoute le nombre de blocs, l'accuracy du test et train s'améliore (en général sont proche entre le modèle avec ajout de blocs et celui avec peu de blocs)\n",
    "# quand on reste sur le meme nombre de blocs et on augmente le nombre de neurons cachés, on constate une legère amélioration dans l'accuracy du test et aussi du train\n",
    "# En comparant à l'architecture classique sans résidus, les accuracy des modèles avec résidus sont supérieures\n"
   ]
  },
  {
   "cell_type": "markdown",
   "id": "df418703-b1e1-4276-8ba7-dd5622c7b7cd",
   "metadata": {
    "id": "2nes_ZtBoBu0"
   },
   "source": [
    "# Part C - Reimplementing loss functions\n",
    "\n",
    "## C.0 - Combining losses\n",
    "First, we recall that, for a batch of score vectors $s\\in\\mathbb{R}^{n\\times C}$ and true labels $y\\in[1,C]^n$, **cross entropy** is defined as\n",
    "$$CE(s, y) = -\\frac{1}{n}\\sum_{i=1}^n \\log\\left( \\mbox{softmax}(s_i)_{y_i} \\right)$$\n",
    "\n",
    "where $\\mbox{softmax}(x)_i = \\frac{e^{x_i}}{\\sum_{j=1}^n e^{x_j}}$ is the probability associated to class $i\\in[1,C]$ for a score vector $x\\in\\mathbb{R}^C$.\n",
    "\n",
    "Let's try to compute cross-entropy in three different ways (see the [documentation](https://pytorch.org/docs/stable/generated/torch.nn.CrossEntropyLoss.html)):\n",
    "1. Using `nn.CrossEntropyLoss()`.\n",
    "2. Using `nn.NLLLoss()` and `nn.LogSoftmax()`.\n",
    "3. Using `nn.NLLLoss()` and `nn.Softmax()`.\n",
    "\n",
    "Check that the output is the same for all three methods on Gaussian random scores `torch.randn(n_batch, n_classes)` and random labels `torch.randint(0, n_classes, [n_batch])`, where `n_batch=4` and `n_classes=10`. Note that the scores are real valued vectors while the labels are integers corresponding to the true class."
   ]
  },
  {
   "cell_type": "code",
   "execution_count": 41,
   "id": "a915c912",
   "metadata": {},
   "outputs": [
    {
     "name": "stdout",
     "output_type": "stream",
     "text": [
      "CrossEntropyLoss:       1.861411\n",
      "LogSoftmax + NLLLoss:   1.861411\n",
      "Softmax + log + NLL:    1.861411\n"
     ]
    }
   ],
   "source": [
    "# Paramètres\n",
    "n_batch = 4\n",
    "n_classes = 10\n",
    "\n",
    "scores = torch.randn(n_batch, n_classes)\n",
    "labels = torch.randint(0, n_classes, (n_batch,))\n",
    "\n",
    "loss1 = nn.CrossEntropyLoss()(scores, labels)\n",
    "\n",
    "log_probs = nn.LogSoftmax(dim=1)(scores)\n",
    "loss2 = nn.NLLLoss()(log_probs, labels)\n",
    "\n",
    "probs = nn.Softmax(dim=1)(scores)\n",
    "log_probs_manual = torch.log(probs + 1e-9)  # on a ajouté + 1e-9 pour éviter log(0)\n",
    "loss3 = nn.NLLLoss()(log_probs_manual, labels)\n",
    "\n",
    "# Affichage des résultats\n",
    "print(f\"CrossEntropyLoss:       {loss1.item():.6f}\")\n",
    "print(f\"LogSoftmax + NLLLoss:   {loss2.item():.6f}\")\n",
    "print(f\"Softmax + log + NLL:    {loss3.item():.6f}\")\n"
   ]
  },
  {
   "cell_type": "code",
   "execution_count": null,
   "id": "6f1daf41",
   "metadata": {},
   "outputs": [],
   "source": [
    "#on constate que les scores sont les memes pour les 3 fonctions de loss"
   ]
  },
  {
   "cell_type": "markdown",
   "id": "bba900c6-f7b2-4179-a2f1-f1eede4b6697",
   "metadata": {
    "id": "TWKaTBVd5ftN"
   },
   "source": [
    "## C.1 - Re-implementation\n",
    "Now re-implement cross-entropy using base functions (`torch.log`, `torch.exp`, `torch.sum`, etc...). Verify that your function returns the same value as Pytorch's implementation."
   ]
  },
  {
   "cell_type": "code",
   "execution_count": 42,
   "id": "ab68d238",
   "metadata": {},
   "outputs": [],
   "source": [
    "def ce(logits, targets):\n",
    "    # logits : (n_batch, n_classes)\n",
    "    # targets : (n_batch,) avec les indices des classes vraies\n",
    "\n",
    "    # calcul des log-probabilités (log-softmax)\n",
    "    max_logits = torch.max(logits, dim=1, keepdim=True)[0]  \n",
    "    stabilized_logits = logits - max_logits\n",
    "    log_probs = stabilized_logits - torch.log(torch.sum(torch.exp(stabilized_logits), dim=1, keepdim=True))\n",
    "\n",
    "    # on récupère la log-proba de la classe vraie pour chaque exemple\n",
    "    nll = -log_probs[range(logits.shape[0]), targets]  # NLL = -log(p(y))\n",
    "\n",
    "    # moyenne sur le batch\n",
    "    return torch.mean(nll)"
   ]
  },
  {
   "cell_type": "code",
   "execution_count": 43,
   "id": "3c5a98a1",
   "metadata": {},
   "outputs": [
    {
     "name": "stdout",
     "output_type": "stream",
     "text": [
      "Manuel : 3.082737\n",
      "PyTorch: 3.082737\n"
     ]
    }
   ],
   "source": [
    "# Simulation\n",
    "logits = torch.randn(4, 10)      \n",
    "targets = torch.randint(0, 10, (4,))\n",
    "\n",
    "# Comparaison avec PyTorch\n",
    "loss_manual = ce(logits, targets)\n",
    "loss_pytorch = nn.CrossEntropyLoss()(logits, targets)\n",
    "\n",
    "print(f\"Manuel : {loss_manual.item():.6f}\")\n",
    "print(f\"PyTorch: {loss_pytorch.item():.6f}\")\n"
   ]
  },
  {
   "cell_type": "code",
   "execution_count": null,
   "id": "66f05ade",
   "metadata": {},
   "outputs": [],
   "source": [
    "#l'implémentation pytorch et le calcul manuel renvoie la meme valeur"
   ]
  },
  {
   "cell_type": "markdown",
   "id": "011ec13a-330a-4073-99b9-2eb9dd42d1f8",
   "metadata": {
    "id": "OFG0QfKN7WtO"
   },
   "source": [
    "## C.2 - Stability analysis\n",
    "Softmax probabilities can be relatively unstable due to their use of exponentials. Pytorch implementations thus usually use log probas or logits to avoid overflows or floating point errors. Test all methods (including your own) on Gaussian random scores of standard deviation equal to $100$. Which methods are stable? Why? Is it an issue in practice?"
   ]
  },
  {
   "cell_type": "code",
   "execution_count": null,
   "id": "c73a3e78",
   "metadata": {},
   "outputs": [
    {
     "name": "stdout",
     "output_type": "stream",
     "text": [
      "Méthode PyTorch CrossEntropyLoss :  256.21649169921875\n",
      "Méthode LogSoftmax + NLLLoss     :  256.21649169921875\n",
      "Méthode Softmax + log + NLLLoss  :  20.7232666015625\n"
     ]
    }
   ],
   "source": [
    "# Génération de données très extrêmes\n",
    "n_batch = 4\n",
    "n_classes = 10\n",
    "logits = torch.randn(n_batch, n_classes) * 100  # écart-type éleve car on a multiplié par 100 donc notre ech suit la loi normale de moyenne 0 et de variance 100²\n",
    "targets = torch.randint(0, n_classes, (n_batch,))\n",
    "\n",
    "loss1 = nn.CrossEntropyLoss()(logits, targets)\n",
    "\n",
    "log_probs = F.log_softmax(logits, dim=1)\n",
    "loss2 = nn.NLLLoss()(log_probs, targets)\n",
    "\n",
    "probs = F.softmax(logits, dim=1)\n",
    "log_probs_naive = torch.log(probs + 1e-9)  # éviter log(0)\n",
    "loss3 = nn.NLLLoss()(log_probs_naive, targets)\n",
    "\n",
    "# Affichage des résultats\n",
    "print(\"Méthode PyTorch CrossEntropyLoss : \", loss1.item())\n",
    "print(\"Méthode LogSoftmax + NLLLoss     : \", loss2.item())\n",
    "print(\"Méthode Softmax + log + NLLLoss  : \", loss3.item())\n"
   ]
  },
  {
   "cell_type": "markdown",
   "id": "5ecaaf7c-b21f-4e18-ac53-1a77adbc60bf",
   "metadata": {
    "id": "Y3y4BfwbBIGy"
   },
   "source": [
    "Re-implement a stable version of cross-entropy."
   ]
  },
  {
   "cell_type": "code",
   "execution_count": 45,
   "id": "2fffac7b",
   "metadata": {},
   "outputs": [],
   "source": [
    "def stable_ce(logits, targets):\n",
    "    # Soustraction du max pour éviter les overflows\n",
    "    max_logits = torch.max(logits, dim=1, keepdim=True)[0]\n",
    "    stabilized_logits = logits - max_logits\n",
    "\n",
    "    # Log-softmax manuelle\n",
    "    log_probs = stabilized_logits - torch.log(torch.sum(torch.exp(stabilized_logits), dim=1, keepdim=True))\n",
    "\n",
    "    # NLL\n",
    "    nll = -log_probs[range(logits.shape[0]), targets]\n",
    "    return torch.mean(nll)\n"
   ]
  }
 ],
 "metadata": {
  "kernelspec": {
   "display_name": "base",
   "language": "python",
   "name": "python3"
  },
  "language_info": {
   "codemirror_mode": {
    "name": "ipython",
    "version": 3
   },
   "file_extension": ".py",
   "mimetype": "text/x-python",
   "name": "python",
   "nbconvert_exporter": "python",
   "pygments_lexer": "ipython3",
   "version": "3.12.4"
  }
 },
 "nbformat": 4,
 "nbformat_minor": 5
}
